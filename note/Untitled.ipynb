{
 "cells": [
  {
   "cell_type": "code",
   "execution_count": 1,
   "metadata": {},
   "outputs": [
    {
     "name": "stdout",
     "output_type": "stream",
     "text": [
      "Collecting mariasql\n",
      "  Downloading https://files.pythonhosted.org/packages/0a/99/bc7961fa78d7af1cfacbffaa15fc8cf94a8deb269d1eb1009082d7574b38/mariasql-4.tar.gz\n",
      "Collecting pymysql (from mariasql)\n",
      "\u001b[?25l  Downloading https://files.pythonhosted.org/packages/ed/39/15045ae46f2a123019aa968dfcba0396c161c20f855f11dea6796bcaae95/PyMySQL-0.9.3-py2.py3-none-any.whl (47kB)\n",
      "\u001b[K    100% |████████████████████████████████| 51kB 378kB/s ta 0:00:011\n",
      "\u001b[?25hBuilding wheels for collected packages: mariasql\n",
      "  Running setup.py bdist_wheel for mariasql ... \u001b[?25ldone\n",
      "\u001b[?25h  Stored in directory: /home/jovyan/.cache/pip/wheels/dc/c8/66/85bf49264dcca645da6cfd0d5e95e1dd11b89fe1111d8e5d4c\n",
      "Successfully built mariasql\n",
      "Installing collected packages: pymysql, mariasql\n",
      "Successfully installed mariasql-4 pymysql-0.9.3\n",
      "Requirement already satisfied: PyMySQL in /opt/conda/lib/python3.7/site-packages (0.9.3)\n",
      "=================================================\n",
      "已連結~~\\資料庫版本為： 5.5.5-10.3.12-MariaDB-1:10.3.12+maria~bionic \n",
      "\n"
     ]
    }
   ],
   "source": [
    "!pip install mariasql\n",
    "#安裝套件\n",
    "!pip install PyMySQL\n",
    "#引用套件\n",
    "import pymysql.cursors\n",
    "#連線資料庫\n",
    "conn = pymysql.connect(host='cc104.rds.local',\n",
    "                             user='root',\n",
    "                             password='hahaha',\n",
    "                             charset='utf8mb4',\n",
    "                             cursorclass=pymysql.cursors.DictCursor)\n",
    "#輸出資料庫版本至畫面上確認\n",
    "print('=================================================\\n已連結~~\\資料庫版本為：',conn.server_version,'\\n')\n",
    "#結束連線\n",
    "conn.close()"
   ]
  },
  {
   "cell_type": "code",
   "execution_count": null,
   "metadata": {},
   "outputs": [],
   "source": []
  }
 ],
 "metadata": {
  "kernelspec": {
   "display_name": "Python 3",
   "language": "python",
   "name": "python3"
  },
  "language_info": {
   "codemirror_mode": {
    "name": "ipython",
    "version": 3
   },
   "file_extension": ".py",
   "mimetype": "text/x-python",
   "name": "python",
   "nbconvert_exporter": "python",
   "pygments_lexer": "ipython3",
   "version": "3.7.1"
  }
 },
 "nbformat": 4,
 "nbformat_minor": 2
}
